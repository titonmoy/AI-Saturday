{
 "cells": [
  {
   "cell_type": "markdown",
   "metadata": {},
   "source": [
    "# Softmax exercise\n",
    "\n",
    "*Complete and hand in this completed worksheet (including its outputs and any supporting code outside of the worksheet) with your assignment submission. For more details see the [assignments page](http://vision.stanford.edu/teaching/cs231n/assignments.html) on the course website.*\n",
    "\n",
    "This exercise is analogous to the SVM exercise. You will:\n",
    "\n",
    "- implement a fully-vectorized **loss function** for the Softmax classifier\n",
    "- implement the fully-vectorized expression for its **analytic gradient**\n",
    "- **check your implementation** with numerical gradient\n",
    "- use a validation set to **tune the learning rate and regularization** strength\n",
    "- **optimize** the loss function with **SGD**\n",
    "- **visualize** the final learned weights\n"
   ]
  },
  {
   "cell_type": "code",
   "execution_count": 1,
   "metadata": {},
   "outputs": [],
   "source": [
    "import random\n",
    "import numpy as np\n",
    "from cs231n.data_utils import load_CIFAR10\n",
    "import matplotlib.pyplot as plt\n",
    "\n",
    "from __future__ import print_function\n",
    "\n",
    "%matplotlib inline\n",
    "plt.rcParams['figure.figsize'] = (10.0, 8.0) # set default size of plots\n",
    "plt.rcParams['image.interpolation'] = 'nearest'\n",
    "plt.rcParams['image.cmap'] = 'gray'\n",
    "\n",
    "# for auto-reloading extenrnal modules\n",
    "# see http://stackoverflow.com/questions/1907993/autoreload-of-modules-in-ipython\n",
    "%load_ext autoreload\n",
    "%autoreload 2"
   ]
  },
  {
   "cell_type": "code",
   "execution_count": 2,
   "metadata": {},
   "outputs": [
    {
     "name": "stdout",
     "output_type": "stream",
     "text": [
      "Train data shape:  (49000, 3073)\n",
      "Train labels shape:  (49000,)\n",
      "Validation data shape:  (1000, 3073)\n",
      "Validation labels shape:  (1000,)\n",
      "Test data shape:  (1000, 3073)\n",
      "Test labels shape:  (1000,)\n",
      "dev data shape:  (500, 3073)\n",
      "dev labels shape:  (500,)\n"
     ]
    }
   ],
   "source": [
    "def get_CIFAR10_data(num_training=49000, num_validation=1000, num_test=1000, num_dev=500):\n",
    "    \"\"\"\n",
    "    Load the CIFAR-10 dataset from disk and perform preprocessing to prepare\n",
    "    it for the linear classifier. These are the same steps as we used for the\n",
    "    SVM, but condensed to a single function.  \n",
    "    \"\"\"\n",
    "    # Load the raw CIFAR-10 data\n",
    "    cifar10_dir = 'cs231n/datasets/cifar-10-batches-py'\n",
    "    X_train, y_train, X_test, y_test = load_CIFAR10(cifar10_dir)\n",
    "    \n",
    "    # subsample the data\n",
    "    mask = list(range(num_training, num_training + num_validation))\n",
    "    X_val = X_train[mask]\n",
    "    y_val = y_train[mask]\n",
    "    mask = list(range(num_training))\n",
    "    X_train = X_train[mask]\n",
    "    y_train = y_train[mask]\n",
    "    mask = list(range(num_test))\n",
    "    X_test = X_test[mask]\n",
    "    y_test = y_test[mask]\n",
    "    mask = np.random.choice(num_training, num_dev, replace=False)\n",
    "    X_dev = X_train[mask]\n",
    "    y_dev = y_train[mask]\n",
    "    \n",
    "    # Preprocessing: reshape the image data into rows\n",
    "    X_train = np.reshape(X_train, (X_train.shape[0], -1))\n",
    "    X_val = np.reshape(X_val, (X_val.shape[0], -1))\n",
    "    X_test = np.reshape(X_test, (X_test.shape[0], -1))\n",
    "    X_dev = np.reshape(X_dev, (X_dev.shape[0], -1))\n",
    "    \n",
    "    # Normalize the data: subtract the mean image\n",
    "    mean_image = np.mean(X_train, axis = 0)\n",
    "    X_train -= mean_image\n",
    "    X_val -= mean_image\n",
    "    X_test -= mean_image\n",
    "    X_dev -= mean_image\n",
    "    \n",
    "    # add bias dimension and transform into columns\n",
    "    X_train = np.hstack([X_train, np.ones((X_train.shape[0], 1))])\n",
    "    X_val = np.hstack([X_val, np.ones((X_val.shape[0], 1))])\n",
    "    X_test = np.hstack([X_test, np.ones((X_test.shape[0], 1))])\n",
    "    X_dev = np.hstack([X_dev, np.ones((X_dev.shape[0], 1))])\n",
    "    \n",
    "    return X_train, y_train, X_val, y_val, X_test, y_test, X_dev, y_dev\n",
    "\n",
    "\n",
    "# Invoke the above function to get our data.\n",
    "X_train, y_train, X_val, y_val, X_test, y_test, X_dev, y_dev = get_CIFAR10_data()\n",
    "print('Train data shape: ', X_train.shape)\n",
    "print('Train labels shape: ', y_train.shape)\n",
    "print('Validation data shape: ', X_val.shape)\n",
    "print('Validation labels shape: ', y_val.shape)\n",
    "print('Test data shape: ', X_test.shape)\n",
    "print('Test labels shape: ', y_test.shape)\n",
    "print('dev data shape: ', X_dev.shape)\n",
    "print('dev labels shape: ', y_dev.shape)"
   ]
  },
  {
   "cell_type": "markdown",
   "metadata": {},
   "source": [
    "## Softmax Classifier\n",
    "\n",
    "Your code for this section will all be written inside **cs231n/classifiers/softmax.py**. \n"
   ]
  },
  {
   "cell_type": "code",
   "execution_count": 3,
   "metadata": {},
   "outputs": [
    {
     "name": "stdout",
     "output_type": "stream",
     "text": [
      "loss: 2.284705\n",
      "sanity check: 2.302585\n"
     ]
    }
   ],
   "source": [
    "# First implement the naive softmax loss function with nested loops.\n",
    "# Open the file cs231n/classifiers/softmax.py and implement the\n",
    "# softmax_loss_naive function.\n",
    "\n",
    "from cs231n.classifiers.softmax import softmax_loss_naive\n",
    "import time\n",
    "\n",
    "# Generate a random softmax weight matrix and use it to compute the loss.\n",
    "W = np.random.randn(3073, 10) * 0.0001\n",
    "loss, grad = softmax_loss_naive(W, X_dev, y_dev, 0.0)\n",
    "\n",
    "# As a rough sanity check, our loss should be something close to -log(0.1).\n",
    "print('loss: %f' % loss)\n",
    "print('sanity check: %f' % (-np.log(0.1)))"
   ]
  },
  {
   "cell_type": "markdown",
   "metadata": {},
   "source": [
    "## Inline Question 1:\n",
    "Why do we expect our loss to be close to -log(0.1)? Explain briefly.**\n",
    "\n",
    "**Your answer:** *Since all the weights are initialized with zero, all the scores will be zero and there exponentials will all be ones. Hence, loss of each sample will be -log(1 / c) where c is the number of class. Then we sum the losses of all the samples and take the mean which eventually returns -log(1 / c). For CIFAR-10, c = 10 and there for the loss expected is -log(0.1).*\n"
   ]
  },
  {
   "cell_type": "code",
   "execution_count": 4,
   "metadata": {},
   "outputs": [
    {
     "name": "stdout",
     "output_type": "stream",
     "text": [
      "numerical: 0.791405 analytic: 0.791405, relative error: 4.099836e-09\n",
      "numerical: 0.294261 analytic: 0.294261, relative error: 3.088815e-07\n",
      "numerical: -1.267040 analytic: -1.267040, relative error: 1.249692e-08\n",
      "numerical: -0.888401 analytic: -0.888401, relative error: 7.626624e-09\n",
      "numerical: -1.667858 analytic: -1.667858, relative error: 1.951938e-08\n",
      "numerical: 1.840060 analytic: 1.840060, relative error: 3.426557e-09\n",
      "numerical: 3.112992 analytic: 3.112992, relative error: 1.412275e-09\n",
      "numerical: -1.956624 analytic: -1.956624, relative error: 2.199717e-08\n",
      "numerical: 2.015118 analytic: 2.015118, relative error: 8.957625e-09\n",
      "numerical: 1.281752 analytic: 1.281752, relative error: 4.610707e-08\n",
      "numerical: 1.189365 analytic: 1.701760, relative error: 1.772303e-01\n",
      "numerical: -2.797295 analytic: -2.282968, relative error: 1.012404e-01\n",
      "numerical: 1.639309 analytic: 2.157287, relative error: 1.364323e-01\n",
      "numerical: 2.666098 analytic: 3.181290, relative error: 8.810621e-02\n",
      "numerical: -2.078309 analytic: -1.559335, relative error: 1.426677e-01\n",
      "numerical: -2.496964 analytic: -1.980778, relative error: 1.152780e-01\n",
      "numerical: -2.379921 analytic: -1.857874, relative error: 1.231884e-01\n",
      "numerical: 0.350010 analytic: 0.860579, relative error: 4.217525e-01\n",
      "numerical: 1.364515 analytic: 1.879655, relative error: 1.587893e-01\n",
      "numerical: -0.629140 analytic: -0.112103, relative error: 6.975263e-01\n"
     ]
    }
   ],
   "source": [
    "# Complete the implementation of softmax_loss_naive and implement a (naive)\n",
    "# version of the gradient that uses nested loops.\n",
    "loss, grad = softmax_loss_naive(W, X_dev, y_dev, 0.0)\n",
    "\n",
    "# As we did for the SVM, use numeric gradient checking as a debugging tool.\n",
    "# The numeric gradient should be close to the analytic gradient.\n",
    "from cs231n.gradient_check import grad_check_sparse\n",
    "f = lambda w: softmax_loss_naive(w, X_dev, y_dev, 0.0)[0]\n",
    "grad_numerical = grad_check_sparse(f, W, grad, 10)\n",
    "\n",
    "# similar to SVM case, do another gradient check with regularization\n",
    "loss, grad = softmax_loss_naive(W, X_dev, y_dev, 5e1)\n",
    "f = lambda w: softmax_loss_naive(w, X_dev, y_dev, 5e1)[0]\n",
    "grad_numerical = grad_check_sparse(f, W, grad, 10)"
   ]
  },
  {
   "cell_type": "code",
   "execution_count": 5,
   "metadata": {},
   "outputs": [
    {
     "name": "stdout",
     "output_type": "stream",
     "text": [
      "naive loss: 2.284705e+00 computed in 0.114519s\n",
      "vectorized loss: 2.284705e+00 computed in 0.054828s\n",
      "Loss difference: 0.000000\n",
      "Gradient difference: 0.000000\n"
     ]
    }
   ],
   "source": [
    "# Now that we have a naive implementation of the softmax loss function and its gradient,\n",
    "# implement a vectorized version in softmax_loss_vectorized.\n",
    "# The two versions should compute the same results, but the vectorized version should be\n",
    "# much faster.\n",
    "tic = time.time()\n",
    "loss_naive, grad_naive = softmax_loss_naive(W, X_dev, y_dev, 0.000005)\n",
    "toc = time.time()\n",
    "print('naive loss: %e computed in %fs' % (loss_naive, toc - tic))\n",
    "\n",
    "from cs231n.classifiers.softmax import softmax_loss_vectorized\n",
    "tic = time.time()\n",
    "loss_vectorized, grad_vectorized = softmax_loss_vectorized(W, X_dev, y_dev, 0.000005)\n",
    "toc = time.time()\n",
    "print('vectorized loss: %e computed in %fs' % (loss_vectorized, toc - tic))\n",
    "\n",
    "# As we did for the SVM, we use the Frobenius norm to compare the two versions\n",
    "# of the gradient.\n",
    "grad_difference = np.linalg.norm(grad_naive - grad_vectorized, ord='fro')\n",
    "print('Loss difference: %f' % np.abs(loss_naive - loss_vectorized))\n",
    "print('Gradient difference: %f' % grad_difference)"
   ]
  },
  {
   "cell_type": "code",
   "execution_count": 6,
   "metadata": {},
   "outputs": [
    {
     "name": "stderr",
     "output_type": "stream",
     "text": [
      "/home/tonmoy/Practice/ai_saturday/assignment1/cs231n/classifiers/softmax.py:85: RuntimeWarning: divide by zero encountered in log\n",
      "  loss = np.sum(-np.log(p[index])) / num_train + 0.5 * reg * np.sum(np.square(W))\n",
      "/home/tonmoy/Practice/ai_saturday/assignment1/cs231n/classifiers/softmax.py:85: RuntimeWarning: overflow encountered in double_scalars\n",
      "  loss = np.sum(-np.log(p[index])) / num_train + 0.5 * reg * np.sum(np.square(W))\n",
      "/home/tonmoy/Practice/ai_saturday/assignment1/cs231n/classifiers/softmax.py:85: RuntimeWarning: overflow encountered in square\n",
      "  loss = np.sum(-np.log(p[index])) / num_train + 0.5 * reg * np.sum(np.square(W))\n"
     ]
    },
    {
     "name": "stdout",
     "output_type": "stream",
     "text": [
      "lr 1.000000e-07 reg 2.500000e+04 train accuracy: 0.110000 val accuracy: 0.087000\n",
      "lr 1.000000e-07 reg 5.000000e+04 train accuracy: 0.110000 val accuracy: 0.087000\n",
      "lr 5.000000e-07 reg 2.500000e+04 train accuracy: 0.110000 val accuracy: 0.087000\n",
      "lr 5.000000e-07 reg 5.000000e+04 train accuracy: 0.110000 val accuracy: 0.087000\n",
      "best validation accuracy achieved during cross-validation: 0.087000\n"
     ]
    }
   ],
   "source": [
    "# Use the validation set to tune hyperparameters (regularization strength and\n",
    "# learning rate). You should experiment with different ranges for the learning\n",
    "# rates and regularization strengths; if you are careful you should be able to\n",
    "# get a classification accuracy of over 0.35 on the validation set.\n",
    "from cs231n.classifiers import Softmax\n",
    "results = {}\n",
    "best_val = -1\n",
    "best_softmax = None\n",
    "learning_rates = [1e-7, 5e-7]\n",
    "regularization_strengths = [2.5e4, 5e4]\n",
    "\n",
    "################################################################################\n",
    "# TODO:                                                                        #\n",
    "# Use the validation set to set the learning rate and regularization strength. #\n",
    "# This should be identical to the validation that you did for the SVM; save    #\n",
    "# the best trained softmax classifer in best_softmax.                          #\n",
    "################################################################################\n",
    "for l in learning_rates:\n",
    "    softmax = Softmax()\n",
    "    for r in regularization_strengths:\n",
    "        
    "        softmax.train(X_dev, y_dev, learning_rate = l, reg = r)\n",
    "        \n",
    "        dev_pred = softmax.predict(X_dev)\n",
    "        val_pred = softmax.predict(X_val)\n",
    "        \n",
    "        dev_acc = np.mean(dev_pred == y_dev)\n",
    "        val_acc = np.mean(val_pred == y_val)\n",
    "        \n",
    "        results[(l, r)] = [dev_acc, val_acc]\n",
    "        \n",
    "        if val_acc > best_val:\n",
    "            best_val = val_acc\n",
    "            best_softmax = softmax\n",
    "################################################################################\n",
    "#                              END OF YOUR CODE                                #\n",
    "################################################################################\n",
    "    \n",
    "# Print out results.\n",
    "for lr, reg in sorted(results):\n",
    "    train_accuracy, val_accuracy = results[(lr, reg)]\n",
    "    print('lr %e reg %e train accuracy: %f val accuracy: %f' % (\n",
    "                lr, reg, train_accuracy, val_accuracy))\n",
    "    \n",
    "print('best validation accuracy achieved during cross-validation: %f' % best_val)"
   ]
  },
  {
   "cell_type": "code",
   "execution_count": 7,
   "metadata": {},
   "outputs": [
    {
     "name": "stdout",
     "output_type": "stream",
     "text": [
      "softmax on raw pixels final test set accuracy: 0.103000\n"
     ]
    }
   ],
   "source": [
    "# evaluate on test set\n",
    "# Evaluate the best softmax on test set\n",
    "y_test_pred = best_softmax.predict(X_test)\n",
    "test_accuracy = np.mean(y_test == y_test_pred)\n",
    "print('softmax on raw pixels final test set accuracy: %f' % (test_accuracy, ))"
   ]
  },
  {
   "cell_type": "code",
   "execution_count": 8,
   "metadata": {},
   "outputs": [
    {
     "name": "stderr",
     "output_type": "stream",
     "text": [
      "/home/tonmoy/miniconda3/envs/kernel_35/lib/python3.5/site-packages/ipykernel_launcher.py:12: RuntimeWarning: invalid value encountered in true_divide\n",
      "  if sys.path[0] == '':\n"
     ]
    },
    {
     "data": {
      "image/png": "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\n",
      "text/plain": [
       "<matplotlib.figure.Figure at 0x7f4a27ce88d0>"
      ]
     },
     "metadata": {},
     "output_type": "display_data"
    }
   ],
   "source": [
    "# Visualize the learned weights for each class\n",
    "w = best_softmax.W[:-1,:] # strip out the bias\n",
    "w = w.reshape(32, 32, 3, 10)\n",
    "\n",
    "w_min, w_max = np.min(w), np.max(w)\n",
    "\n",
    "classes = ['plane', 'car', 'bird', 'cat', 'deer', 'dog', 'frog', 'horse', 'ship', 'truck']\n",
    "for i in range(10):\n",
    "    plt.subplot(2, 5, i + 1)\n",
    "    \n",
    "    # Rescale the weights to be between 0 and 255\n",
    "    wimg = 255.0 * (w[:, :, :, i].squeeze() - w_min) / (w_max - w_min)\n",
    "    plt.imshow(wimg.astype('uint8'))\n",
    "    plt.axis('off')\n",
    "    plt.title(classes[i])"
   ]
  }
 ],
 "metadata": {
  "kernelspec": {
   "display_name": "kernel35",
   "language": "python",
   "name": "kernel_35"
  },
  "language_info": {
   "codemirror_mode": {
    "name": "ipython",
    "version": 3
   },
   "file_extension": ".py",
   "mimetype": "text/x-python",
   "name": "python",
   "nbconvert_exporter": "python",
   "pygments_lexer": "ipython3",
   "version": "3.5.4"
  }
 },
 "nbformat": 4,
 "nbformat_minor": 1
}
